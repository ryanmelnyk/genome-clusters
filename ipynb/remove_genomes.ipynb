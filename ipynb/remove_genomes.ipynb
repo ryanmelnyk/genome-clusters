{
 "cells": [
  {
   "cell_type": "markdown",
   "metadata": {},
   "source": [
    "# Remove genomes\n",
    "\n",
    "GCF_002158865.1 failed GTDBtk - it passed the initial busco filtering step but only had ~3% or so of the amino acids needed for gtdbtk. Not sure what the discrepancy is but it would be ideal to filter this out of all output files, including the mash centroid file (yuck).\n"
   ]
  },
  {
   "cell_type": "markdown",
   "metadata": {},
   "source": [
    "Added `GCF_002158865.1` to `to_skip` variable in `stage_ncbi_assembly_summary.py`\n",
    "\n",
    "removed .fna.gz file from `genomedb/ncbi-refseq-raw`"
   ]
  },
  {
   "cell_type": "code",
   "execution_count": 1,
   "metadata": {},
   "outputs": [],
   "source": [
    "import os\n",
    "import shutil\n",
    "import subprocess\n",
    "from Bio import SeqIO, Seq"
   ]
  },
  {
   "cell_type": "code",
   "execution_count": 2,
   "metadata": {},
   "outputs": [],
   "source": [
    "genomes = [\"GCF_002158865.1\"]\n",
    "folder = \"/usr2/people/melnyk/genomedb/metadata\"\n",
    "os.mkdir(\"old\")\n",
    "os.mkdir(\"new\")"
   ]
  },
  {
   "cell_type": "code",
   "execution_count": 3,
   "metadata": {},
   "outputs": [
    {
     "name": "stdout",
     "output_type": "stream",
     "text": [
      "genome_stats.csv\n",
      "clusters.csv\n",
      "centroids.msh\n",
      "gtdbtk_taxonomy.tsv\n",
      "gtdbtk_msa.faa\n"
     ]
    }
   ],
   "source": [
    "for f in os.listdir(folder):\n",
    "    print(f)\n",
    "    shutil.copy(os.path.join(folder, f), \"old\")"
   ]
  },
  {
   "cell_type": "code",
   "execution_count": 4,
   "metadata": {},
   "outputs": [],
   "source": [
    "o = open(\"new/genome_stats.csv\", 'w')\n",
    "for line in open(\"old/genome_stats.csv\"):\n",
    "    vals = line.rstrip().split(\",\")\n",
    "    if vals[0] not in genomes:\n",
    "        o.write(line)\n",
    "o.close()"
   ]
  },
  {
   "cell_type": "code",
   "execution_count": 5,
   "metadata": {},
   "outputs": [],
   "source": [
    "o = open(\"new/clusters.csv\", 'w')\n",
    "for line in open(\"old/clusters.csv\"):\n",
    "    vals = line.rstrip().split(\",\")\n",
    "    if vals[0] not in genomes:\n",
    "        if vals[2] not in genomes:\n",
    "            o.write(line)\n",
    "o.close()"
   ]
  },
  {
   "cell_type": "code",
   "execution_count": 6,
   "metadata": {},
   "outputs": [],
   "source": [
    "o = open(\"new/gtdbtk_taxonomy.tsv\", 'w')\n",
    "for line in open(\"old/gtdbtk_taxonomy.tsv\", 'r'):\n",
    "    vals = line.rstrip().split(\"\\t\")\n",
    "    if vals[0].replace(\".fna\", \"\") in genomes:\n",
    "        continue\n",
    "    else:\n",
    "        o.write(line)\n",
    "o.close()"
   ]
  },
  {
   "cell_type": "code",
   "execution_count": 7,
   "metadata": {},
   "outputs": [],
   "source": [
    "o = open(\"new/gtdbtk_msa.faa\", 'w')\n",
    "for seq in SeqIO.parse(open(\"old/gtdbtk_msa.faa\", 'r'), 'fasta'):\n",
    "    if seq.id.replace(\".fna\", \"\") not in genomes:\n",
    "        SeqIO.write(seq, o, 'fasta')\n",
    "o.close()"
   ]
  },
  {
   "cell_type": "code",
   "execution_count": 9,
   "metadata": {},
   "outputs": [],
   "source": [
    "os.mkdir(\"fasta\")"
   ]
  },
  {
   "cell_type": "code",
   "execution_count": 10,
   "metadata": {},
   "outputs": [],
   "source": [
    "# create a folder \"fasta\" with the genome files for all centroid genomes\n",
    "for line in open(\"new/clusters.csv\", 'r'):\n",
    "    if line.startswith(\"accession,\"):\n",
    "        continue\n",
    "    vals = line.rstrip().split(\",\")\n",
    "    if vals[1] == \"True\":\n",
    "        cmds = [\n",
    "            \"ln\", \"-s\",\n",
    "            f\"/usr2/people/melnyk/genomedb/ncbi-refseq-raw/{vals[0]}.fna.gz\",\n",
    "            \"fasta\"\n",
    "        ]\n",
    "        subprocess.run(cmds)"
   ]
  },
  {
   "cell_type": "code",
   "execution_count": 11,
   "metadata": {},
   "outputs": [
    {
     "name": "stdout",
     "output_type": "stream",
     "text": [
      "/bin/bash: mash: command not found\n"
     ]
    }
   ],
   "source": [
    "! mash info old/centroids.msh"
   ]
  },
  {
   "cell_type": "markdown",
   "metadata": {},
   "source": [
    "Output from mash info old/centroids.msh\n",
    "```\n",
    "Header:\n",
    "  K-mer size:                    21 (64-bit hashes)\n",
    "  Alphabet:                      ACGT (canonical)\n",
    "  Target min-hashes per sketch:  1000\n",
    "  Sketches:                      27285\n",
    "```\n",
    "\n",
    "Ran the following commands to create a new centroid file:\n",
    "\n",
    "```\n",
    "cd fasta\n",
    "parallel -j 8 gunzip -f ::: *.fna.gz\n",
    "ls *.fna > fasta_list.txt\n",
    "mash sketch \\\n",
    "  -p 8 \\\n",
    "  -l fasta_list.txt \\\n",
    "  -o ../new/centroids.msh\n",
    "```\n",
    "\n",
    "Output from mash info old/centroids.msh\n",
    "```\n",
    "Header:\n",
    "  K-mer size:                    21 (64-bit hashes)\n",
    "  Alphabet:                      ACGT (canonical)\n",
    "  Target min-hashes per sketch:  1000\n",
    "  Sketches:                      27284\n",
    "```\n",
    "\n",
    "Copy files back to ~/genomedb/metadata\n",
    "```\n",
    " mv new/* ~/genomedb/metadata/\n",
    " ```"
   ]
  },
  {
   "cell_type": "markdown",
   "metadata": {},
   "source": []
  }
 ],
 "metadata": {
  "kernelspec": {
   "display_name": "base",
   "language": "python",
   "name": "python3"
  },
  "language_info": {
   "codemirror_mode": {
    "name": "ipython",
    "version": 3
   },
   "file_extension": ".py",
   "mimetype": "text/x-python",
   "name": "python",
   "nbconvert_exporter": "python",
   "pygments_lexer": "ipython3",
   "version": "3.10.6"
  }
 },
 "nbformat": 4,
 "nbformat_minor": 2
}
